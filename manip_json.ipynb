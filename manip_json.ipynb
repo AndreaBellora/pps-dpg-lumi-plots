{
 "cells": [
  {
   "cell_type": "markdown",
   "id": "7a5b6bb0",
   "metadata": {},
   "source": [
    "# Tool to manipulate JSON\n",
    "\n",
    "The function below computes the intersection (AND) of two JSONs."
   ]
  },
  {
   "cell_type": "code",
   "execution_count": 13,
   "id": "a769076a",
   "metadata": {},
   "outputs": [],
   "source": [
    "import json\n",
    "\n",
    "class MyEncoder(json.JSONEncoder):\n",
    "    def encode(self, obj):\n",
    "        result = super(MyEncoder, self).encode(obj)\n",
    "        return result.replace('[\\n', '[').replace('\\n]', ']').replace(',\\n', ',')\n",
    "    \n",
    "def intersect_json(json_file1, json_file2, output_json_file):\n",
    "    # Read the first JSON file\n",
    "    with open(json_file1, 'r') as file1:\n",
    "        data1 = json.load(file1)\n",
    "    \n",
    "    # Read the second JSON file\n",
    "    with open(json_file2, 'r') as file2:\n",
    "        data2 = json.load(file2)\n",
    "    \n",
    "    # Initialize an empty result dictionary\n",
    "    result_data = {}\n",
    "    \n",
    "    # Find the common runs between the two JSON files\n",
    "    common_runs = sorted(set(data1.keys()) & set(data2.keys()))\n",
    "    \n",
    "    # Iterate over the common runs\n",
    "    for run in common_runs:\n",
    "        # Initialize an empty list for lumisections\n",
    "        common_lumisections = []\n",
    "        \n",
    "        # Find the common lumisections between the two JSON files for this run\n",
    "        for lumisection1 in data1[run]:\n",
    "            for lumisection2 in data2[run]:\n",
    "                if lumisection1[0] <= lumisection2[1] and lumisection1[1] >= lumisection2[0]:\n",
    "                    # There is an overlap, add the intersection\n",
    "                    common_lumisections.append([max(lumisection1[0], lumisection2[0]), min(lumisection1[1], lumisection2[1])])\n",
    "        \n",
    "        # Add the common lumisections to the result dictionary if there are any\n",
    "        if common_lumisections:\n",
    "            result_data[run] = common_lumisections\n",
    "    \n",
    "    # Write the result to the output JSON file\n",
    "    with open(output_json_file, 'w') as output_file:\n",
    "        json.dump(result_data, output_file, cls=MyEncoder, separators=(',', ': '), indent=2)\n"
   ]
  },
  {
   "cell_type": "code",
   "execution_count": 17,
   "id": "1742bd34",
   "metadata": {},
   "outputs": [],
   "source": [
    "cms_json = '/eos/user/c/cmsdqm/www/CAF/certification/Collisions23/Cert_Collisions2023_366442_370790_Golden.json'\n",
    "pps_json = '/eos/project-c/ctpps/Operations/DataExternalConditions/2023/PPS-July2023_track_only.json'\n",
    "output_json = 'PPS-July2023_track_only_AND_CMS_Golden.json'\n",
    "intersect_json(cms_json,pps_json,output_json)"
   ]
  },
  {
   "cell_type": "code",
   "execution_count": null,
   "id": "b31d368f",
   "metadata": {},
   "outputs": [],
   "source": [
    "cms_json = '/eos/user/c/cmsdqm/www/CAF/certification/Collisions23/Cert_Collisions2023_366442_370790_Golden.json'\n",
    "pps_json = '/eos/project-c/ctpps/Operations/DataExternalConditions/2023/PPS-July2023_track+time.json'\n",
    "output_json = 'PPS-July2023_track+time_AND_CMS_Golden.json'\n",
    "intersect_json(cms_json,pps_json,output_json)"
   ]
  }
 ],
 "metadata": {
  "kernelspec": {
   "display_name": "Python 3",
   "language": "python",
   "name": "python3"
  },
  "language_info": {
   "codemirror_mode": {
    "name": "ipython",
    "version": 3
   },
   "file_extension": ".py",
   "mimetype": "text/x-python",
   "name": "python",
   "nbconvert_exporter": "python",
   "pygments_lexer": "ipython3",
   "version": "3.9.12"
  }
 },
 "nbformat": 4,
 "nbformat_minor": 5
}
